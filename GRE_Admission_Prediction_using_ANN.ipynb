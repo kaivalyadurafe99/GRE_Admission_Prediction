{
  "nbformat": 4,
  "nbformat_minor": 0,
  "metadata": {
    "colab": {
      "name": "GRE_Admission_Prediction_using_ANN.ipynb",
      "provenance": [],
      "collapsed_sections": []
    },
    "kernelspec": {
      "name": "python3",
      "display_name": "Python 3"
    },
    "language_info": {
      "name": "python"
    }
  },
  "cells": [
    {
      "cell_type": "code",
      "execution_count": 1,
      "metadata": {
        "id": "rLG9CPTmWMwt"
      },
      "outputs": [],
      "source": [
        "import numpy as np\n",
        "import pandas as pd\n",
        "from matplotlib import pyplot as plt\n",
        "import seaborn as sns"
      ]
    },
    {
      "cell_type": "code",
      "source": [
        "df=pd.read_csv(\"/content/Admission_Predict.csv\")"
      ],
      "metadata": {
        "id": "53PBADW2WZJ4"
      },
      "execution_count": 2,
      "outputs": []
    },
    {
      "cell_type": "code",
      "source": [
        "df.head(10)"
      ],
      "metadata": {
        "colab": {
          "base_uri": "https://localhost:8080/",
          "height": 363
        },
        "id": "TSGzlHfGW2aJ",
        "outputId": "09ff4269-c85d-44d5-aede-7e7bb1e53e7b"
      },
      "execution_count": 3,
      "outputs": [
        {
          "output_type": "execute_result",
          "data": {
            "text/plain": [
              "   Serial No.  GRE Score  TOEFL Score  University Rating  SOP  LOR   CGPA  \\\n",
              "0           1        337          118                  4  4.5   4.5  9.65   \n",
              "1           2        324          107                  4  4.0   4.5  8.87   \n",
              "2           3        316          104                  3  3.0   3.5  8.00   \n",
              "3           4        322          110                  3  3.5   2.5  8.67   \n",
              "4           5        314          103                  2  2.0   3.0  8.21   \n",
              "5           6        330          115                  5  4.5   3.0  9.34   \n",
              "6           7        321          109                  3  3.0   4.0  8.20   \n",
              "7           8        308          101                  2  3.0   4.0  7.90   \n",
              "8           9        302          102                  1  2.0   1.5  8.00   \n",
              "9          10        323          108                  3  3.5   3.0  8.60   \n",
              "\n",
              "   Research  Chance of Admit   \n",
              "0         1              0.92  \n",
              "1         1              0.76  \n",
              "2         1              0.72  \n",
              "3         1              0.80  \n",
              "4         0              0.65  \n",
              "5         1              0.90  \n",
              "6         1              0.75  \n",
              "7         0              0.68  \n",
              "8         0              0.50  \n",
              "9         0              0.45  "
            ],
            "text/html": [
              "\n",
              "  <div id=\"df-ca48bb3b-d5c4-4b19-838d-b03033a648fe\">\n",
              "    <div class=\"colab-df-container\">\n",
              "      <div>\n",
              "<style scoped>\n",
              "    .dataframe tbody tr th:only-of-type {\n",
              "        vertical-align: middle;\n",
              "    }\n",
              "\n",
              "    .dataframe tbody tr th {\n",
              "        vertical-align: top;\n",
              "    }\n",
              "\n",
              "    .dataframe thead th {\n",
              "        text-align: right;\n",
              "    }\n",
              "</style>\n",
              "<table border=\"1\" class=\"dataframe\">\n",
              "  <thead>\n",
              "    <tr style=\"text-align: right;\">\n",
              "      <th></th>\n",
              "      <th>Serial No.</th>\n",
              "      <th>GRE Score</th>\n",
              "      <th>TOEFL Score</th>\n",
              "      <th>University Rating</th>\n",
              "      <th>SOP</th>\n",
              "      <th>LOR</th>\n",
              "      <th>CGPA</th>\n",
              "      <th>Research</th>\n",
              "      <th>Chance of Admit</th>\n",
              "    </tr>\n",
              "  </thead>\n",
              "  <tbody>\n",
              "    <tr>\n",
              "      <th>0</th>\n",
              "      <td>1</td>\n",
              "      <td>337</td>\n",
              "      <td>118</td>\n",
              "      <td>4</td>\n",
              "      <td>4.5</td>\n",
              "      <td>4.5</td>\n",
              "      <td>9.65</td>\n",
              "      <td>1</td>\n",
              "      <td>0.92</td>\n",
              "    </tr>\n",
              "    <tr>\n",
              "      <th>1</th>\n",
              "      <td>2</td>\n",
              "      <td>324</td>\n",
              "      <td>107</td>\n",
              "      <td>4</td>\n",
              "      <td>4.0</td>\n",
              "      <td>4.5</td>\n",
              "      <td>8.87</td>\n",
              "      <td>1</td>\n",
              "      <td>0.76</td>\n",
              "    </tr>\n",
              "    <tr>\n",
              "      <th>2</th>\n",
              "      <td>3</td>\n",
              "      <td>316</td>\n",
              "      <td>104</td>\n",
              "      <td>3</td>\n",
              "      <td>3.0</td>\n",
              "      <td>3.5</td>\n",
              "      <td>8.00</td>\n",
              "      <td>1</td>\n",
              "      <td>0.72</td>\n",
              "    </tr>\n",
              "    <tr>\n",
              "      <th>3</th>\n",
              "      <td>4</td>\n",
              "      <td>322</td>\n",
              "      <td>110</td>\n",
              "      <td>3</td>\n",
              "      <td>3.5</td>\n",
              "      <td>2.5</td>\n",
              "      <td>8.67</td>\n",
              "      <td>1</td>\n",
              "      <td>0.80</td>\n",
              "    </tr>\n",
              "    <tr>\n",
              "      <th>4</th>\n",
              "      <td>5</td>\n",
              "      <td>314</td>\n",
              "      <td>103</td>\n",
              "      <td>2</td>\n",
              "      <td>2.0</td>\n",
              "      <td>3.0</td>\n",
              "      <td>8.21</td>\n",
              "      <td>0</td>\n",
              "      <td>0.65</td>\n",
              "    </tr>\n",
              "    <tr>\n",
              "      <th>5</th>\n",
              "      <td>6</td>\n",
              "      <td>330</td>\n",
              "      <td>115</td>\n",
              "      <td>5</td>\n",
              "      <td>4.5</td>\n",
              "      <td>3.0</td>\n",
              "      <td>9.34</td>\n",
              "      <td>1</td>\n",
              "      <td>0.90</td>\n",
              "    </tr>\n",
              "    <tr>\n",
              "      <th>6</th>\n",
              "      <td>7</td>\n",
              "      <td>321</td>\n",
              "      <td>109</td>\n",
              "      <td>3</td>\n",
              "      <td>3.0</td>\n",
              "      <td>4.0</td>\n",
              "      <td>8.20</td>\n",
              "      <td>1</td>\n",
              "      <td>0.75</td>\n",
              "    </tr>\n",
              "    <tr>\n",
              "      <th>7</th>\n",
              "      <td>8</td>\n",
              "      <td>308</td>\n",
              "      <td>101</td>\n",
              "      <td>2</td>\n",
              "      <td>3.0</td>\n",
              "      <td>4.0</td>\n",
              "      <td>7.90</td>\n",
              "      <td>0</td>\n",
              "      <td>0.68</td>\n",
              "    </tr>\n",
              "    <tr>\n",
              "      <th>8</th>\n",
              "      <td>9</td>\n",
              "      <td>302</td>\n",
              "      <td>102</td>\n",
              "      <td>1</td>\n",
              "      <td>2.0</td>\n",
              "      <td>1.5</td>\n",
              "      <td>8.00</td>\n",
              "      <td>0</td>\n",
              "      <td>0.50</td>\n",
              "    </tr>\n",
              "    <tr>\n",
              "      <th>9</th>\n",
              "      <td>10</td>\n",
              "      <td>323</td>\n",
              "      <td>108</td>\n",
              "      <td>3</td>\n",
              "      <td>3.5</td>\n",
              "      <td>3.0</td>\n",
              "      <td>8.60</td>\n",
              "      <td>0</td>\n",
              "      <td>0.45</td>\n",
              "    </tr>\n",
              "  </tbody>\n",
              "</table>\n",
              "</div>\n",
              "      <button class=\"colab-df-convert\" onclick=\"convertToInteractive('df-ca48bb3b-d5c4-4b19-838d-b03033a648fe')\"\n",
              "              title=\"Convert this dataframe to an interactive table.\"\n",
              "              style=\"display:none;\">\n",
              "        \n",
              "  <svg xmlns=\"http://www.w3.org/2000/svg\" height=\"24px\"viewBox=\"0 0 24 24\"\n",
              "       width=\"24px\">\n",
              "    <path d=\"M0 0h24v24H0V0z\" fill=\"none\"/>\n",
              "    <path d=\"M18.56 5.44l.94 2.06.94-2.06 2.06-.94-2.06-.94-.94-2.06-.94 2.06-2.06.94zm-11 1L8.5 8.5l.94-2.06 2.06-.94-2.06-.94L8.5 2.5l-.94 2.06-2.06.94zm10 10l.94 2.06.94-2.06 2.06-.94-2.06-.94-.94-2.06-.94 2.06-2.06.94z\"/><path d=\"M17.41 7.96l-1.37-1.37c-.4-.4-.92-.59-1.43-.59-.52 0-1.04.2-1.43.59L10.3 9.45l-7.72 7.72c-.78.78-.78 2.05 0 2.83L4 21.41c.39.39.9.59 1.41.59.51 0 1.02-.2 1.41-.59l7.78-7.78 2.81-2.81c.8-.78.8-2.07 0-2.86zM5.41 20L4 18.59l7.72-7.72 1.47 1.35L5.41 20z\"/>\n",
              "  </svg>\n",
              "      </button>\n",
              "      \n",
              "  <style>\n",
              "    .colab-df-container {\n",
              "      display:flex;\n",
              "      flex-wrap:wrap;\n",
              "      gap: 12px;\n",
              "    }\n",
              "\n",
              "    .colab-df-convert {\n",
              "      background-color: #E8F0FE;\n",
              "      border: none;\n",
              "      border-radius: 50%;\n",
              "      cursor: pointer;\n",
              "      display: none;\n",
              "      fill: #1967D2;\n",
              "      height: 32px;\n",
              "      padding: 0 0 0 0;\n",
              "      width: 32px;\n",
              "    }\n",
              "\n",
              "    .colab-df-convert:hover {\n",
              "      background-color: #E2EBFA;\n",
              "      box-shadow: 0px 1px 2px rgba(60, 64, 67, 0.3), 0px 1px 3px 1px rgba(60, 64, 67, 0.15);\n",
              "      fill: #174EA6;\n",
              "    }\n",
              "\n",
              "    [theme=dark] .colab-df-convert {\n",
              "      background-color: #3B4455;\n",
              "      fill: #D2E3FC;\n",
              "    }\n",
              "\n",
              "    [theme=dark] .colab-df-convert:hover {\n",
              "      background-color: #434B5C;\n",
              "      box-shadow: 0px 1px 3px 1px rgba(0, 0, 0, 0.15);\n",
              "      filter: drop-shadow(0px 1px 2px rgba(0, 0, 0, 0.3));\n",
              "      fill: #FFFFFF;\n",
              "    }\n",
              "  </style>\n",
              "\n",
              "      <script>\n",
              "        const buttonEl =\n",
              "          document.querySelector('#df-ca48bb3b-d5c4-4b19-838d-b03033a648fe button.colab-df-convert');\n",
              "        buttonEl.style.display =\n",
              "          google.colab.kernel.accessAllowed ? 'block' : 'none';\n",
              "\n",
              "        async function convertToInteractive(key) {\n",
              "          const element = document.querySelector('#df-ca48bb3b-d5c4-4b19-838d-b03033a648fe');\n",
              "          const dataTable =\n",
              "            await google.colab.kernel.invokeFunction('convertToInteractive',\n",
              "                                                     [key], {});\n",
              "          if (!dataTable) return;\n",
              "\n",
              "          const docLinkHtml = 'Like what you see? Visit the ' +\n",
              "            '<a target=\"_blank\" href=https://colab.research.google.com/notebooks/data_table.ipynb>data table notebook</a>'\n",
              "            + ' to learn more about interactive tables.';\n",
              "          element.innerHTML = '';\n",
              "          dataTable['output_type'] = 'display_data';\n",
              "          await google.colab.output.renderOutput(dataTable, element);\n",
              "          const docLink = document.createElement('div');\n",
              "          docLink.innerHTML = docLinkHtml;\n",
              "          element.appendChild(docLink);\n",
              "        }\n",
              "      </script>\n",
              "    </div>\n",
              "  </div>\n",
              "  "
            ]
          },
          "metadata": {},
          "execution_count": 3
        }
      ]
    },
    {
      "cell_type": "code",
      "source": [
        "df.columns"
      ],
      "metadata": {
        "colab": {
          "base_uri": "https://localhost:8080/"
        },
        "id": "0r6qonrRW442",
        "outputId": "d3aa746d-0a78-48df-e268-9bf85d0cf651"
      },
      "execution_count": 4,
      "outputs": [
        {
          "output_type": "execute_result",
          "data": {
            "text/plain": [
              "Index(['Serial No.', 'GRE Score', 'TOEFL Score', 'University Rating', 'SOP',\n",
              "       'LOR ', 'CGPA', 'Research', 'Chance of Admit '],\n",
              "      dtype='object')"
            ]
          },
          "metadata": {},
          "execution_count": 4
        }
      ]
    },
    {
      "cell_type": "code",
      "source": [
        "len(df.columns)"
      ],
      "metadata": {
        "colab": {
          "base_uri": "https://localhost:8080/"
        },
        "id": "Q_bEUvJHW-ah",
        "outputId": "1661dea9-84e7-4e9b-9aa3-6b101434fcd2"
      },
      "execution_count": 5,
      "outputs": [
        {
          "output_type": "execute_result",
          "data": {
            "text/plain": [
              "9"
            ]
          },
          "metadata": {},
          "execution_count": 5
        }
      ]
    },
    {
      "cell_type": "code",
      "source": [
        "df.shape"
      ],
      "metadata": {
        "colab": {
          "base_uri": "https://localhost:8080/"
        },
        "id": "xUBNb7QSXAsu",
        "outputId": "8f21a8db-1de2-4891-934f-275228c53a6e"
      },
      "execution_count": 6,
      "outputs": [
        {
          "output_type": "execute_result",
          "data": {
            "text/plain": [
              "(400, 9)"
            ]
          },
          "metadata": {},
          "execution_count": 6
        }
      ]
    },
    {
      "cell_type": "code",
      "source": [
        "df.isnull().sum().sum()"
      ],
      "metadata": {
        "colab": {
          "base_uri": "https://localhost:8080/"
        },
        "id": "x-h_vDd5XKpX",
        "outputId": "421737b9-3b46-46e3-b297-70667d14f8e0"
      },
      "execution_count": 7,
      "outputs": [
        {
          "output_type": "execute_result",
          "data": {
            "text/plain": [
              "0"
            ]
          },
          "metadata": {},
          "execution_count": 7
        }
      ]
    },
    {
      "cell_type": "code",
      "source": [
        "df.info()"
      ],
      "metadata": {
        "colab": {
          "base_uri": "https://localhost:8080/"
        },
        "id": "z7V53cjhXPl3",
        "outputId": "e27bd2ca-869b-47aa-bd8b-e13a7c43ca71"
      },
      "execution_count": 8,
      "outputs": [
        {
          "output_type": "stream",
          "name": "stdout",
          "text": [
            "<class 'pandas.core.frame.DataFrame'>\n",
            "RangeIndex: 400 entries, 0 to 399\n",
            "Data columns (total 9 columns):\n",
            " #   Column             Non-Null Count  Dtype  \n",
            "---  ------             --------------  -----  \n",
            " 0   Serial No.         400 non-null    int64  \n",
            " 1   GRE Score          400 non-null    int64  \n",
            " 2   TOEFL Score        400 non-null    int64  \n",
            " 3   University Rating  400 non-null    int64  \n",
            " 4   SOP                400 non-null    float64\n",
            " 5   LOR                400 non-null    float64\n",
            " 6   CGPA               400 non-null    float64\n",
            " 7   Research           400 non-null    int64  \n",
            " 8   Chance of Admit    400 non-null    float64\n",
            "dtypes: float64(4), int64(5)\n",
            "memory usage: 28.2 KB\n"
          ]
        }
      ]
    },
    {
      "cell_type": "code",
      "source": [
        "df.duplicated().sum().sum()"
      ],
      "metadata": {
        "colab": {
          "base_uri": "https://localhost:8080/"
        },
        "id": "xAgglkddXVHK",
        "outputId": "ab9ed955-0bc6-4eb5-fa53-71467da640fe"
      },
      "execution_count": 9,
      "outputs": [
        {
          "output_type": "execute_result",
          "data": {
            "text/plain": [
              "0"
            ]
          },
          "metadata": {},
          "execution_count": 9
        }
      ]
    },
    {
      "cell_type": "code",
      "source": [
        "df.shape"
      ],
      "metadata": {
        "colab": {
          "base_uri": "https://localhost:8080/"
        },
        "id": "hP2V5UqxXa-C",
        "outputId": "de394b70-6d16-45a9-936f-acb975ebfc14"
      },
      "execution_count": 10,
      "outputs": [
        {
          "output_type": "execute_result",
          "data": {
            "text/plain": [
              "(400, 9)"
            ]
          },
          "metadata": {},
          "execution_count": 10
        }
      ]
    },
    {
      "cell_type": "code",
      "source": [
        "df.drop(columns=[\"Serial No.\"],inplace=True)"
      ],
      "metadata": {
        "id": "ysVCfIotX-Yh"
      },
      "execution_count": 11,
      "outputs": []
    },
    {
      "cell_type": "code",
      "source": [
        "df.head()"
      ],
      "metadata": {
        "colab": {
          "base_uri": "https://localhost:8080/",
          "height": 206
        },
        "id": "DJ-b_HoqZSra",
        "outputId": "00849a91-e3b7-4799-8794-2b5994ff9f18"
      },
      "execution_count": 12,
      "outputs": [
        {
          "output_type": "execute_result",
          "data": {
            "text/plain": [
              "   GRE Score  TOEFL Score  University Rating  SOP  LOR   CGPA  Research  \\\n",
              "0        337          118                  4  4.5   4.5  9.65         1   \n",
              "1        324          107                  4  4.0   4.5  8.87         1   \n",
              "2        316          104                  3  3.0   3.5  8.00         1   \n",
              "3        322          110                  3  3.5   2.5  8.67         1   \n",
              "4        314          103                  2  2.0   3.0  8.21         0   \n",
              "\n",
              "   Chance of Admit   \n",
              "0              0.92  \n",
              "1              0.76  \n",
              "2              0.72  \n",
              "3              0.80  \n",
              "4              0.65  "
            ],
            "text/html": [
              "\n",
              "  <div id=\"df-7a14c316-9802-4c59-b517-13c56912aad4\">\n",
              "    <div class=\"colab-df-container\">\n",
              "      <div>\n",
              "<style scoped>\n",
              "    .dataframe tbody tr th:only-of-type {\n",
              "        vertical-align: middle;\n",
              "    }\n",
              "\n",
              "    .dataframe tbody tr th {\n",
              "        vertical-align: top;\n",
              "    }\n",
              "\n",
              "    .dataframe thead th {\n",
              "        text-align: right;\n",
              "    }\n",
              "</style>\n",
              "<table border=\"1\" class=\"dataframe\">\n",
              "  <thead>\n",
              "    <tr style=\"text-align: right;\">\n",
              "      <th></th>\n",
              "      <th>GRE Score</th>\n",
              "      <th>TOEFL Score</th>\n",
              "      <th>University Rating</th>\n",
              "      <th>SOP</th>\n",
              "      <th>LOR</th>\n",
              "      <th>CGPA</th>\n",
              "      <th>Research</th>\n",
              "      <th>Chance of Admit</th>\n",
              "    </tr>\n",
              "  </thead>\n",
              "  <tbody>\n",
              "    <tr>\n",
              "      <th>0</th>\n",
              "      <td>337</td>\n",
              "      <td>118</td>\n",
              "      <td>4</td>\n",
              "      <td>4.5</td>\n",
              "      <td>4.5</td>\n",
              "      <td>9.65</td>\n",
              "      <td>1</td>\n",
              "      <td>0.92</td>\n",
              "    </tr>\n",
              "    <tr>\n",
              "      <th>1</th>\n",
              "      <td>324</td>\n",
              "      <td>107</td>\n",
              "      <td>4</td>\n",
              "      <td>4.0</td>\n",
              "      <td>4.5</td>\n",
              "      <td>8.87</td>\n",
              "      <td>1</td>\n",
              "      <td>0.76</td>\n",
              "    </tr>\n",
              "    <tr>\n",
              "      <th>2</th>\n",
              "      <td>316</td>\n",
              "      <td>104</td>\n",
              "      <td>3</td>\n",
              "      <td>3.0</td>\n",
              "      <td>3.5</td>\n",
              "      <td>8.00</td>\n",
              "      <td>1</td>\n",
              "      <td>0.72</td>\n",
              "    </tr>\n",
              "    <tr>\n",
              "      <th>3</th>\n",
              "      <td>322</td>\n",
              "      <td>110</td>\n",
              "      <td>3</td>\n",
              "      <td>3.5</td>\n",
              "      <td>2.5</td>\n",
              "      <td>8.67</td>\n",
              "      <td>1</td>\n",
              "      <td>0.80</td>\n",
              "    </tr>\n",
              "    <tr>\n",
              "      <th>4</th>\n",
              "      <td>314</td>\n",
              "      <td>103</td>\n",
              "      <td>2</td>\n",
              "      <td>2.0</td>\n",
              "      <td>3.0</td>\n",
              "      <td>8.21</td>\n",
              "      <td>0</td>\n",
              "      <td>0.65</td>\n",
              "    </tr>\n",
              "  </tbody>\n",
              "</table>\n",
              "</div>\n",
              "      <button class=\"colab-df-convert\" onclick=\"convertToInteractive('df-7a14c316-9802-4c59-b517-13c56912aad4')\"\n",
              "              title=\"Convert this dataframe to an interactive table.\"\n",
              "              style=\"display:none;\">\n",
              "        \n",
              "  <svg xmlns=\"http://www.w3.org/2000/svg\" height=\"24px\"viewBox=\"0 0 24 24\"\n",
              "       width=\"24px\">\n",
              "    <path d=\"M0 0h24v24H0V0z\" fill=\"none\"/>\n",
              "    <path d=\"M18.56 5.44l.94 2.06.94-2.06 2.06-.94-2.06-.94-.94-2.06-.94 2.06-2.06.94zm-11 1L8.5 8.5l.94-2.06 2.06-.94-2.06-.94L8.5 2.5l-.94 2.06-2.06.94zm10 10l.94 2.06.94-2.06 2.06-.94-2.06-.94-.94-2.06-.94 2.06-2.06.94z\"/><path d=\"M17.41 7.96l-1.37-1.37c-.4-.4-.92-.59-1.43-.59-.52 0-1.04.2-1.43.59L10.3 9.45l-7.72 7.72c-.78.78-.78 2.05 0 2.83L4 21.41c.39.39.9.59 1.41.59.51 0 1.02-.2 1.41-.59l7.78-7.78 2.81-2.81c.8-.78.8-2.07 0-2.86zM5.41 20L4 18.59l7.72-7.72 1.47 1.35L5.41 20z\"/>\n",
              "  </svg>\n",
              "      </button>\n",
              "      \n",
              "  <style>\n",
              "    .colab-df-container {\n",
              "      display:flex;\n",
              "      flex-wrap:wrap;\n",
              "      gap: 12px;\n",
              "    }\n",
              "\n",
              "    .colab-df-convert {\n",
              "      background-color: #E8F0FE;\n",
              "      border: none;\n",
              "      border-radius: 50%;\n",
              "      cursor: pointer;\n",
              "      display: none;\n",
              "      fill: #1967D2;\n",
              "      height: 32px;\n",
              "      padding: 0 0 0 0;\n",
              "      width: 32px;\n",
              "    }\n",
              "\n",
              "    .colab-df-convert:hover {\n",
              "      background-color: #E2EBFA;\n",
              "      box-shadow: 0px 1px 2px rgba(60, 64, 67, 0.3), 0px 1px 3px 1px rgba(60, 64, 67, 0.15);\n",
              "      fill: #174EA6;\n",
              "    }\n",
              "\n",
              "    [theme=dark] .colab-df-convert {\n",
              "      background-color: #3B4455;\n",
              "      fill: #D2E3FC;\n",
              "    }\n",
              "\n",
              "    [theme=dark] .colab-df-convert:hover {\n",
              "      background-color: #434B5C;\n",
              "      box-shadow: 0px 1px 3px 1px rgba(0, 0, 0, 0.15);\n",
              "      filter: drop-shadow(0px 1px 2px rgba(0, 0, 0, 0.3));\n",
              "      fill: #FFFFFF;\n",
              "    }\n",
              "  </style>\n",
              "\n",
              "      <script>\n",
              "        const buttonEl =\n",
              "          document.querySelector('#df-7a14c316-9802-4c59-b517-13c56912aad4 button.colab-df-convert');\n",
              "        buttonEl.style.display =\n",
              "          google.colab.kernel.accessAllowed ? 'block' : 'none';\n",
              "\n",
              "        async function convertToInteractive(key) {\n",
              "          const element = document.querySelector('#df-7a14c316-9802-4c59-b517-13c56912aad4');\n",
              "          const dataTable =\n",
              "            await google.colab.kernel.invokeFunction('convertToInteractive',\n",
              "                                                     [key], {});\n",
              "          if (!dataTable) return;\n",
              "\n",
              "          const docLinkHtml = 'Like what you see? Visit the ' +\n",
              "            '<a target=\"_blank\" href=https://colab.research.google.com/notebooks/data_table.ipynb>data table notebook</a>'\n",
              "            + ' to learn more about interactive tables.';\n",
              "          element.innerHTML = '';\n",
              "          dataTable['output_type'] = 'display_data';\n",
              "          await google.colab.output.renderOutput(dataTable, element);\n",
              "          const docLink = document.createElement('div');\n",
              "          docLink.innerHTML = docLinkHtml;\n",
              "          element.appendChild(docLink);\n",
              "        }\n",
              "      </script>\n",
              "    </div>\n",
              "  </div>\n",
              "  "
            ]
          },
          "metadata": {},
          "execution_count": 12
        }
      ]
    },
    {
      "cell_type": "code",
      "source": [
        "x=df[[\"GRE Score\",\"TOEFL Score\",\"University Rating\",\"SOP\",\"CGPA\",\"Research\"]].values\n",
        "y=df.iloc[:,-1].values"
      ],
      "metadata": {
        "id": "7FsGLZjLZUS_"
      },
      "execution_count": 39,
      "outputs": []
    },
    {
      "cell_type": "code",
      "source": [
        "x"
      ],
      "metadata": {
        "colab": {
          "base_uri": "https://localhost:8080/"
        },
        "id": "Af3ZnQggbd-9",
        "outputId": "1590a0d2-3461-4e6f-a16f-c6e609b62b9d"
      },
      "execution_count": 40,
      "outputs": [
        {
          "output_type": "execute_result",
          "data": {
            "text/plain": [
              "array([[337.  , 118.  ,   4.  ,   4.5 ,   9.65,   1.  ],\n",
              "       [324.  , 107.  ,   4.  ,   4.  ,   8.87,   1.  ],\n",
              "       [316.  , 104.  ,   3.  ,   3.  ,   8.  ,   1.  ],\n",
              "       ...,\n",
              "       [330.  , 116.  ,   4.  ,   5.  ,   9.45,   1.  ],\n",
              "       [312.  , 103.  ,   3.  ,   3.5 ,   8.78,   0.  ],\n",
              "       [333.  , 117.  ,   4.  ,   5.  ,   9.66,   1.  ]])"
            ]
          },
          "metadata": {},
          "execution_count": 40
        }
      ]
    },
    {
      "cell_type": "code",
      "source": [
        "y"
      ],
      "metadata": {
        "colab": {
          "base_uri": "https://localhost:8080/"
        },
        "id": "ObRFJn7DbfdF",
        "outputId": "9ecfd208-46f0-4f47-b83f-72144a95f415"
      },
      "execution_count": 41,
      "outputs": [
        {
          "output_type": "execute_result",
          "data": {
            "text/plain": [
              "array([0.92, 0.76, 0.72, 0.8 , 0.65, 0.9 , 0.75, 0.68, 0.5 , 0.45, 0.52,\n",
              "       0.84, 0.78, 0.62, 0.61, 0.54, 0.66, 0.65, 0.63, 0.62, 0.64, 0.7 ,\n",
              "       0.94, 0.95, 0.97, 0.94, 0.76, 0.44, 0.46, 0.54, 0.65, 0.74, 0.91,\n",
              "       0.9 , 0.94, 0.88, 0.64, 0.58, 0.52, 0.48, 0.46, 0.49, 0.53, 0.87,\n",
              "       0.91, 0.88, 0.86, 0.89, 0.82, 0.78, 0.76, 0.56, 0.78, 0.72, 0.7 ,\n",
              "       0.64, 0.64, 0.46, 0.36, 0.42, 0.48, 0.47, 0.54, 0.56, 0.52, 0.55,\n",
              "       0.61, 0.57, 0.68, 0.78, 0.94, 0.96, 0.93, 0.84, 0.74, 0.72, 0.74,\n",
              "       0.64, 0.44, 0.46, 0.5 , 0.96, 0.92, 0.92, 0.94, 0.76, 0.72, 0.66,\n",
              "       0.64, 0.74, 0.64, 0.38, 0.34, 0.44, 0.36, 0.42, 0.48, 0.86, 0.9 ,\n",
              "       0.79, 0.71, 0.64, 0.62, 0.57, 0.74, 0.69, 0.87, 0.91, 0.93, 0.68,\n",
              "       0.61, 0.69, 0.62, 0.72, 0.59, 0.66, 0.56, 0.45, 0.47, 0.71, 0.94,\n",
              "       0.94, 0.57, 0.61, 0.57, 0.64, 0.85, 0.78, 0.84, 0.92, 0.96, 0.77,\n",
              "       0.71, 0.79, 0.89, 0.82, 0.76, 0.71, 0.8 , 0.78, 0.84, 0.9 , 0.92,\n",
              "       0.97, 0.8 , 0.81, 0.75, 0.83, 0.96, 0.79, 0.93, 0.94, 0.86, 0.79,\n",
              "       0.8 , 0.77, 0.7 , 0.65, 0.61, 0.52, 0.57, 0.53, 0.67, 0.68, 0.81,\n",
              "       0.78, 0.65, 0.64, 0.64, 0.65, 0.68, 0.89, 0.86, 0.89, 0.87, 0.85,\n",
              "       0.9 , 0.82, 0.72, 0.73, 0.71, 0.71, 0.68, 0.75, 0.72, 0.89, 0.84,\n",
              "       0.93, 0.93, 0.88, 0.9 , 0.87, 0.86, 0.94, 0.77, 0.78, 0.73, 0.73,\n",
              "       0.7 , 0.72, 0.73, 0.72, 0.97, 0.97, 0.69, 0.57, 0.63, 0.66, 0.64,\n",
              "       0.68, 0.79, 0.82, 0.95, 0.96, 0.94, 0.93, 0.91, 0.85, 0.84, 0.74,\n",
              "       0.76, 0.75, 0.76, 0.71, 0.67, 0.61, 0.63, 0.64, 0.71, 0.82, 0.73,\n",
              "       0.74, 0.69, 0.64, 0.91, 0.88, 0.85, 0.86, 0.7 , 0.59, 0.6 , 0.65,\n",
              "       0.7 , 0.76, 0.63, 0.81, 0.72, 0.71, 0.8 , 0.77, 0.74, 0.7 , 0.71,\n",
              "       0.93, 0.85, 0.79, 0.76, 0.78, 0.77, 0.9 , 0.87, 0.71, 0.7 , 0.7 ,\n",
              "       0.75, 0.71, 0.72, 0.73, 0.83, 0.77, 0.72, 0.54, 0.49, 0.52, 0.58,\n",
              "       0.78, 0.89, 0.7 , 0.66, 0.67, 0.68, 0.8 , 0.81, 0.8 , 0.94, 0.93,\n",
              "       0.92, 0.89, 0.82, 0.79, 0.58, 0.56, 0.56, 0.64, 0.61, 0.68, 0.76,\n",
              "       0.86, 0.9 , 0.71, 0.62, 0.66, 0.65, 0.73, 0.62, 0.74, 0.79, 0.8 ,\n",
              "       0.69, 0.7 , 0.76, 0.84, 0.78, 0.67, 0.66, 0.65, 0.54, 0.58, 0.79,\n",
              "       0.8 , 0.75, 0.73, 0.72, 0.62, 0.67, 0.81, 0.63, 0.69, 0.8 , 0.43,\n",
              "       0.8 , 0.73, 0.75, 0.71, 0.73, 0.83, 0.72, 0.94, 0.81, 0.81, 0.75,\n",
              "       0.79, 0.58, 0.59, 0.47, 0.49, 0.47, 0.42, 0.57, 0.62, 0.74, 0.73,\n",
              "       0.64, 0.63, 0.59, 0.73, 0.79, 0.68, 0.7 , 0.81, 0.85, 0.93, 0.91,\n",
              "       0.69, 0.77, 0.86, 0.74, 0.57, 0.51, 0.67, 0.72, 0.89, 0.95, 0.79,\n",
              "       0.39, 0.38, 0.34, 0.47, 0.56, 0.71, 0.78, 0.73, 0.82, 0.62, 0.96,\n",
              "       0.96, 0.46, 0.53, 0.49, 0.76, 0.64, 0.71, 0.84, 0.77, 0.89, 0.82,\n",
              "       0.84, 0.91, 0.67, 0.95])"
            ]
          },
          "metadata": {},
          "execution_count": 41
        }
      ]
    },
    {
      "cell_type": "code",
      "source": [
        "from sklearn.model_selection import train_test_split\n",
        "x_train,x_test,y_train,y_test=train_test_split(x,y,test_size=0.2,random_state=1)"
      ],
      "metadata": {
        "id": "M9Q51zHTbgCf"
      },
      "execution_count": 42,
      "outputs": []
    },
    {
      "cell_type": "code",
      "source": [
        "x_train"
      ],
      "metadata": {
        "colab": {
          "base_uri": "https://localhost:8080/"
        },
        "id": "bUvWLb9Tb3vb",
        "outputId": "64181a1c-114c-412c-ab40-effbc5abc1a0"
      },
      "execution_count": 43,
      "outputs": [
        {
          "output_type": "execute_result",
          "data": {
            "text/plain": [
              "array([[301.  ,  97.  ,   2.  ,   3.  ,   7.88,   1.  ],\n",
              "       [334.  , 119.  ,   5.  ,   5.  ,   9.7 ,   1.  ],\n",
              "       [305.  , 112.  ,   3.  ,   3.  ,   8.65,   0.  ],\n",
              "       ...,\n",
              "       [325.  , 107.  ,   3.  ,   3.  ,   9.11,   1.  ],\n",
              "       [326.  , 111.  ,   5.  ,   4.5 ,   9.23,   1.  ],\n",
              "       [300.  , 105.  ,   1.  ,   1.  ,   7.8 ,   0.  ]])"
            ]
          },
          "metadata": {},
          "execution_count": 43
        }
      ]
    },
    {
      "cell_type": "code",
      "source": [
        "x_test"
      ],
      "metadata": {
        "colab": {
          "base_uri": "https://localhost:8080/"
        },
        "id": "EvcBqiAYb5Zr",
        "outputId": "43d5c528-2775-4625-e7e0-ca3778f35745"
      },
      "execution_count": 44,
      "outputs": [
        {
          "output_type": "execute_result",
          "data": {
            "text/plain": [
              "array([[312.  , 103.  ,   3.  ,   3.5 ,   8.78,   0.  ],\n",
              "       [300.  , 100.  ,   3.  ,   2.  ,   8.66,   1.  ],\n",
              "       [324.  , 112.  ,   4.  ,   4.  ,   8.77,   1.  ],\n",
              "       [324.  , 107.  ,   5.  ,   3.5 ,   8.66,   1.  ],\n",
              "       [322.  , 110.  ,   4.  ,   4.  ,   9.13,   1.  ],\n",
              "       [308.  , 106.  ,   3.  ,   3.  ,   8.24,   0.  ],\n",
              "       [310.  , 106.  ,   2.  ,   3.5 ,   8.33,   0.  ],\n",
              "       [300.  , 102.  ,   2.  ,   1.5 ,   7.87,   0.  ],\n",
              "       [310.  ,  99.  ,   2.  ,   1.5 ,   7.3 ,   0.  ],\n",
              "       [340.  , 112.  ,   4.  ,   5.  ,   9.66,   1.  ],\n",
              "       [321.  , 111.  ,   4.  ,   4.  ,   8.97,   1.  ],\n",
              "       [336.  , 119.  ,   4.  ,   4.5 ,   9.62,   1.  ],\n",
              "       [331.  , 115.  ,   5.  ,   4.5 ,   9.36,   1.  ],\n",
              "       [315.  , 104.  ,   3.  ,   3.  ,   8.33,   0.  ],\n",
              "       [323.  , 104.  ,   3.  ,   4.  ,   8.44,   1.  ],\n",
              "       [312.  , 110.  ,   2.  ,   3.5 ,   8.53,   0.  ],\n",
              "       [324.  , 110.  ,   3.  ,   3.5 ,   9.22,   1.  ],\n",
              "       [330.  , 115.  ,   5.  ,   4.5 ,   9.34,   1.  ],\n",
              "       [296.  ,  95.  ,   2.  ,   3.  ,   7.54,   1.  ],\n",
              "       [308.  , 109.  ,   2.  ,   3.  ,   8.45,   0.  ],\n",
              "       [310.  , 106.  ,   4.  ,   1.5 ,   8.36,   0.  ],\n",
              "       [324.  , 115.  ,   3.  ,   3.5 ,   8.76,   1.  ],\n",
              "       [324.  , 110.  ,   4.  ,   4.5 ,   9.15,   1.  ],\n",
              "       [331.  , 117.  ,   4.  ,   4.5 ,   9.42,   1.  ],\n",
              "       [319.  , 106.  ,   3.  ,   4.  ,   8.  ,   1.  ],\n",
              "       [298.  ,  98.  ,   2.  ,   4.  ,   8.03,   0.  ],\n",
              "       [320.  , 104.  ,   3.  ,   3.5 ,   8.34,   1.  ],\n",
              "       [315.  , 110.  ,   2.  ,   3.5 ,   8.46,   1.  ],\n",
              "       [334.  , 116.  ,   4.  ,   4.  ,   9.54,   1.  ],\n",
              "       [310.  , 102.  ,   3.  ,   3.5 ,   8.02,   1.  ],\n",
              "       [340.  , 120.  ,   4.  ,   5.  ,   9.5 ,   1.  ],\n",
              "       [314.  , 103.  ,   2.  ,   2.  ,   8.21,   0.  ],\n",
              "       [322.  , 110.  ,   5.  ,   4.5 ,   8.97,   0.  ],\n",
              "       [322.  , 110.  ,   3.  ,   3.5 ,   8.96,   1.  ],\n",
              "       [321.  , 109.  ,   3.  ,   3.  ,   8.2 ,   1.  ],\n",
              "       [312.  , 105.  ,   3.  ,   2.  ,   8.02,   1.  ],\n",
              "       [300.  ,  99.  ,   1.  ,   3.  ,   6.8 ,   1.  ],\n",
              "       [314.  , 106.  ,   2.  ,   4.  ,   8.25,   0.  ],\n",
              "       [330.  , 116.  ,   4.  ,   5.  ,   9.45,   1.  ],\n",
              "       [318.  , 109.  ,   1.  ,   3.5 ,   9.12,   0.  ],\n",
              "       [327.  , 113.  ,   4.  ,   4.5 ,   9.14,   0.  ],\n",
              "       [298.  , 105.  ,   3.  ,   3.5 ,   8.54,   0.  ],\n",
              "       [334.  , 117.  ,   5.  ,   4.  ,   9.07,   1.  ],\n",
              "       [304.  , 105.  ,   2.  ,   3.  ,   8.2 ,   1.  ],\n",
              "       [335.  , 117.  ,   5.  ,   5.  ,   9.82,   1.  ],\n",
              "       [319.  , 103.  ,   4.  ,   4.5 ,   8.66,   0.  ],\n",
              "       [320.  , 108.  ,   3.  ,   3.5 ,   8.44,   1.  ],\n",
              "       [325.  , 112.  ,   4.  ,   4.  ,   9.  ,   1.  ],\n",
              "       [305.  , 105.  ,   2.  ,   3.  ,   8.13,   0.  ],\n",
              "       [308.  , 103.  ,   2.  ,   3.  ,   8.49,   0.  ],\n",
              "       [325.  , 112.  ,   4.  ,   3.5 ,   8.92,   0.  ],\n",
              "       [296.  ,  99.  ,   2.  ,   2.5 ,   8.03,   0.  ],\n",
              "       [324.  , 111.  ,   4.  ,   3.  ,   9.01,   1.  ],\n",
              "       [318.  , 110.  ,   3.  ,   4.  ,   8.8 ,   0.  ],\n",
              "       [310.  , 107.  ,   3.  ,   3.5 ,   8.67,   0.  ],\n",
              "       [336.  , 118.  ,   5.  ,   4.5 ,   9.19,   1.  ],\n",
              "       [294.  ,  95.  ,   1.  ,   1.5 ,   7.64,   0.  ],\n",
              "       [290.  , 104.  ,   4.  ,   2.  ,   7.46,   0.  ],\n",
              "       [326.  , 102.  ,   4.  ,   5.  ,   8.76,   1.  ],\n",
              "       [322.  , 110.  ,   3.  ,   4.  ,   8.64,   1.  ],\n",
              "       [338.  , 117.  ,   4.  ,   3.5 ,   9.46,   1.  ],\n",
              "       [316.  , 107.  ,   2.  ,   3.5 ,   8.64,   1.  ],\n",
              "       [330.  , 113.  ,   5.  ,   5.  ,   9.31,   1.  ],\n",
              "       [316.  , 105.  ,   3.  ,   3.  ,   8.73,   0.  ],\n",
              "       [297.  ,  98.  ,   2.  ,   2.5 ,   7.67,   0.  ],\n",
              "       [324.  , 113.  ,   4.  ,   4.5 ,   8.79,   0.  ],\n",
              "       [329.  , 111.  ,   4.  ,   4.5 ,   9.18,   1.  ],\n",
              "       [320.  , 104.  ,   3.  ,   3.  ,   8.74,   1.  ],\n",
              "       [306.  , 105.  ,   2.  ,   2.5 ,   8.22,   1.  ],\n",
              "       [311.  , 107.  ,   4.  ,   4.5 ,   9.  ,   1.  ],\n",
              "       [324.  , 110.  ,   4.  ,   3.  ,   8.97,   1.  ],\n",
              "       [304.  , 100.  ,   4.  ,   1.5 ,   7.84,   0.  ],\n",
              "       [318.  , 107.  ,   3.  ,   3.  ,   8.27,   1.  ],\n",
              "       [307.  , 105.  ,   2.  ,   2.  ,   8.1 ,   0.  ],\n",
              "       [327.  , 111.  ,   4.  ,   4.  ,   9.  ,   1.  ],\n",
              "       [299.  ,  94.  ,   1.  ,   1.  ,   7.34,   0.  ],\n",
              "       [316.  , 105.  ,   2.  ,   2.5 ,   8.2 ,   1.  ],\n",
              "       [300.  , 104.  ,   3.  ,   3.5 ,   8.16,   0.  ],\n",
              "       [309.  , 105.  ,   5.  ,   3.5 ,   8.56,   0.  ],\n",
              "       [305.  , 105.  ,   2.  ,   3.  ,   8.23,   0.  ]])"
            ]
          },
          "metadata": {},
          "execution_count": 44
        }
      ]
    },
    {
      "cell_type": "code",
      "source": [
        "from sklearn.preprocessing import MinMaxScaler\n",
        "scalar=MinMaxScaler()"
      ],
      "metadata": {
        "id": "BuoZ_0I9b6Et"
      },
      "execution_count": 45,
      "outputs": []
    },
    {
      "cell_type": "code",
      "source": [
        "x_train_sc=scalar.fit_transform(x_train)\n",
        "x_test_sc=scalar.transform(x_test)"
      ],
      "metadata": {
        "id": "Amz1sfHxdgZ9"
      },
      "execution_count": 46,
      "outputs": []
    },
    {
      "cell_type": "code",
      "source": [
        "x_train_sc"
      ],
      "metadata": {
        "colab": {
          "base_uri": "https://localhost:8080/"
        },
        "id": "Oz62kKgydyur",
        "outputId": "bfd6ebfa-8297-4d19-f8e2-4c4a0a948a16"
      },
      "execution_count": 47,
      "outputs": [
        {
          "output_type": "execute_result",
          "data": {
            "text/plain": [
              "array([[0.22      , 0.17857143, 0.25      , 0.5       , 0.25      ,\n",
              "        1.        ],\n",
              "       [0.88      , 0.96428571, 1.        , 1.        , 0.91911765,\n",
              "        1.        ],\n",
              "       [0.3       , 0.71428571, 0.5       , 0.5       , 0.53308824,\n",
              "        0.        ],\n",
              "       ...,\n",
              "       [0.7       , 0.53571429, 0.5       , 0.5       , 0.70220588,\n",
              "        1.        ],\n",
              "       [0.72      , 0.67857143, 1.        , 0.875     , 0.74632353,\n",
              "        1.        ],\n",
              "       [0.2       , 0.46428571, 0.        , 0.        , 0.22058824,\n",
              "        0.        ]])"
            ]
          },
          "metadata": {},
          "execution_count": 47
        }
      ]
    },
    {
      "cell_type": "code",
      "source": [
        "x_test_sc"
      ],
      "metadata": {
        "colab": {
          "base_uri": "https://localhost:8080/"
        },
        "id": "bvl4aLM5eXYW",
        "outputId": "beb7975d-006c-4b05-a267-ec0d31625765"
      },
      "execution_count": 48,
      "outputs": [
        {
          "output_type": "execute_result",
          "data": {
            "text/plain": [
              "array([[ 0.44      ,  0.39285714,  0.5       ,  0.625     ,  0.58088235,\n",
              "         0.        ],\n",
              "       [ 0.2       ,  0.28571429,  0.5       ,  0.25      ,  0.53676471,\n",
              "         1.        ],\n",
              "       [ 0.68      ,  0.71428571,  0.75      ,  0.75      ,  0.57720588,\n",
              "         1.        ],\n",
              "       [ 0.68      ,  0.53571429,  1.        ,  0.625     ,  0.53676471,\n",
              "         1.        ],\n",
              "       [ 0.64      ,  0.64285714,  0.75      ,  0.75      ,  0.70955882,\n",
              "         1.        ],\n",
              "       [ 0.36      ,  0.5       ,  0.5       ,  0.5       ,  0.38235294,\n",
              "         0.        ],\n",
              "       [ 0.4       ,  0.5       ,  0.25      ,  0.625     ,  0.41544118,\n",
              "         0.        ],\n",
              "       [ 0.2       ,  0.35714286,  0.25      ,  0.125     ,  0.24632353,\n",
              "         0.        ],\n",
              "       [ 0.4       ,  0.25      ,  0.25      ,  0.125     ,  0.03676471,\n",
              "         0.        ],\n",
              "       [ 1.        ,  0.71428571,  0.75      ,  1.        ,  0.90441176,\n",
              "         1.        ],\n",
              "       [ 0.62      ,  0.67857143,  0.75      ,  0.75      ,  0.65073529,\n",
              "         1.        ],\n",
              "       [ 0.92      ,  0.96428571,  0.75      ,  0.875     ,  0.88970588,\n",
              "         1.        ],\n",
              "       [ 0.82      ,  0.82142857,  1.        ,  0.875     ,  0.79411765,\n",
              "         1.        ],\n",
              "       [ 0.5       ,  0.42857143,  0.5       ,  0.5       ,  0.41544118,\n",
              "         0.        ],\n",
              "       [ 0.66      ,  0.42857143,  0.5       ,  0.75      ,  0.45588235,\n",
              "         1.        ],\n",
              "       [ 0.44      ,  0.64285714,  0.25      ,  0.625     ,  0.48897059,\n",
              "         0.        ],\n",
              "       [ 0.68      ,  0.64285714,  0.5       ,  0.625     ,  0.74264706,\n",
              "         1.        ],\n",
              "       [ 0.8       ,  0.82142857,  1.        ,  0.875     ,  0.78676471,\n",
              "         1.        ],\n",
              "       [ 0.12      ,  0.10714286,  0.25      ,  0.5       ,  0.125     ,\n",
              "         1.        ],\n",
              "       [ 0.36      ,  0.60714286,  0.25      ,  0.5       ,  0.45955882,\n",
              "         0.        ],\n",
              "       [ 0.4       ,  0.5       ,  0.75      ,  0.125     ,  0.42647059,\n",
              "         0.        ],\n",
              "       [ 0.68      ,  0.82142857,  0.5       ,  0.625     ,  0.57352941,\n",
              "         1.        ],\n",
              "       [ 0.68      ,  0.64285714,  0.75      ,  0.875     ,  0.71691176,\n",
              "         1.        ],\n",
              "       [ 0.82      ,  0.89285714,  0.75      ,  0.875     ,  0.81617647,\n",
              "         1.        ],\n",
              "       [ 0.58      ,  0.5       ,  0.5       ,  0.75      ,  0.29411765,\n",
              "         1.        ],\n",
              "       [ 0.16      ,  0.21428571,  0.25      ,  0.75      ,  0.30514706,\n",
              "         0.        ],\n",
              "       [ 0.6       ,  0.42857143,  0.5       ,  0.625     ,  0.41911765,\n",
              "         1.        ],\n",
              "       [ 0.5       ,  0.64285714,  0.25      ,  0.625     ,  0.46323529,\n",
              "         1.        ],\n",
              "       [ 0.88      ,  0.85714286,  0.75      ,  0.75      ,  0.86029412,\n",
              "         1.        ],\n",
              "       [ 0.4       ,  0.35714286,  0.5       ,  0.625     ,  0.30147059,\n",
              "         1.        ],\n",
              "       [ 1.        ,  1.        ,  0.75      ,  1.        ,  0.84558824,\n",
              "         1.        ],\n",
              "       [ 0.48      ,  0.39285714,  0.25      ,  0.25      ,  0.37132353,\n",
              "         0.        ],\n",
              "       [ 0.64      ,  0.64285714,  1.        ,  0.875     ,  0.65073529,\n",
              "         0.        ],\n",
              "       [ 0.64      ,  0.64285714,  0.5       ,  0.625     ,  0.64705882,\n",
              "         1.        ],\n",
              "       [ 0.62      ,  0.60714286,  0.5       ,  0.5       ,  0.36764706,\n",
              "         1.        ],\n",
              "       [ 0.44      ,  0.46428571,  0.5       ,  0.25      ,  0.30147059,\n",
              "         1.        ],\n",
              "       [ 0.2       ,  0.25      ,  0.        ,  0.5       , -0.14705882,\n",
              "         1.        ],\n",
              "       [ 0.48      ,  0.5       ,  0.25      ,  0.75      ,  0.38602941,\n",
              "         0.        ],\n",
              "       [ 0.8       ,  0.85714286,  0.75      ,  1.        ,  0.82720588,\n",
              "         1.        ],\n",
              "       [ 0.56      ,  0.60714286,  0.        ,  0.625     ,  0.70588235,\n",
              "         0.        ],\n",
              "       [ 0.74      ,  0.75      ,  0.75      ,  0.875     ,  0.71323529,\n",
              "         0.        ],\n",
              "       [ 0.16      ,  0.46428571,  0.5       ,  0.625     ,  0.49264706,\n",
              "         0.        ],\n",
              "       [ 0.88      ,  0.89285714,  1.        ,  0.75      ,  0.6875    ,\n",
              "         1.        ],\n",
              "       [ 0.28      ,  0.46428571,  0.25      ,  0.5       ,  0.36764706,\n",
              "         1.        ],\n",
              "       [ 0.9       ,  0.89285714,  1.        ,  1.        ,  0.96323529,\n",
              "         1.        ],\n",
              "       [ 0.58      ,  0.39285714,  0.75      ,  0.875     ,  0.53676471,\n",
              "         0.        ],\n",
              "       [ 0.6       ,  0.57142857,  0.5       ,  0.625     ,  0.45588235,\n",
              "         1.        ],\n",
              "       [ 0.7       ,  0.71428571,  0.75      ,  0.75      ,  0.66176471,\n",
              "         1.        ],\n",
              "       [ 0.3       ,  0.46428571,  0.25      ,  0.5       ,  0.34191176,\n",
              "         0.        ],\n",
              "       [ 0.36      ,  0.39285714,  0.25      ,  0.5       ,  0.47426471,\n",
              "         0.        ],\n",
              "       [ 0.7       ,  0.71428571,  0.75      ,  0.625     ,  0.63235294,\n",
              "         0.        ],\n",
              "       [ 0.12      ,  0.25      ,  0.25      ,  0.375     ,  0.30514706,\n",
              "         0.        ],\n",
              "       [ 0.68      ,  0.67857143,  0.75      ,  0.5       ,  0.66544118,\n",
              "         1.        ],\n",
              "       [ 0.56      ,  0.64285714,  0.5       ,  0.75      ,  0.58823529,\n",
              "         0.        ],\n",
              "       [ 0.4       ,  0.53571429,  0.5       ,  0.625     ,  0.54044118,\n",
              "         0.        ],\n",
              "       [ 0.92      ,  0.92857143,  1.        ,  0.875     ,  0.73161765,\n",
              "         1.        ],\n",
              "       [ 0.08      ,  0.10714286,  0.        ,  0.125     ,  0.16176471,\n",
              "         0.        ],\n",
              "       [ 0.        ,  0.42857143,  0.75      ,  0.25      ,  0.09558824,\n",
              "         0.        ],\n",
              "       [ 0.72      ,  0.35714286,  0.75      ,  1.        ,  0.57352941,\n",
              "         1.        ],\n",
              "       [ 0.64      ,  0.64285714,  0.5       ,  0.75      ,  0.52941176,\n",
              "         1.        ],\n",
              "       [ 0.96      ,  0.89285714,  0.75      ,  0.625     ,  0.83088235,\n",
              "         1.        ],\n",
              "       [ 0.52      ,  0.53571429,  0.25      ,  0.625     ,  0.52941176,\n",
              "         1.        ],\n",
              "       [ 0.8       ,  0.75      ,  1.        ,  1.        ,  0.77573529,\n",
              "         1.        ],\n",
              "       [ 0.52      ,  0.46428571,  0.5       ,  0.5       ,  0.5625    ,\n",
              "         0.        ],\n",
              "       [ 0.14      ,  0.21428571,  0.25      ,  0.375     ,  0.17279412,\n",
              "         0.        ],\n",
              "       [ 0.68      ,  0.75      ,  0.75      ,  0.875     ,  0.58455882,\n",
              "         0.        ],\n",
              "       [ 0.78      ,  0.67857143,  0.75      ,  0.875     ,  0.72794118,\n",
              "         1.        ],\n",
              "       [ 0.6       ,  0.42857143,  0.5       ,  0.5       ,  0.56617647,\n",
              "         1.        ],\n",
              "       [ 0.32      ,  0.46428571,  0.25      ,  0.375     ,  0.375     ,\n",
              "         1.        ],\n",
              "       [ 0.42      ,  0.53571429,  0.75      ,  0.875     ,  0.66176471,\n",
              "         1.        ],\n",
              "       [ 0.68      ,  0.64285714,  0.75      ,  0.5       ,  0.65073529,\n",
              "         1.        ],\n",
              "       [ 0.28      ,  0.28571429,  0.75      ,  0.125     ,  0.23529412,\n",
              "         0.        ],\n",
              "       [ 0.56      ,  0.53571429,  0.5       ,  0.5       ,  0.39338235,\n",
              "         1.        ],\n",
              "       [ 0.34      ,  0.46428571,  0.25      ,  0.25      ,  0.33088235,\n",
              "         0.        ],\n",
              "       [ 0.74      ,  0.67857143,  0.75      ,  0.75      ,  0.66176471,\n",
              "         1.        ],\n",
              "       [ 0.18      ,  0.07142857,  0.        ,  0.        ,  0.05147059,\n",
              "         0.        ],\n",
              "       [ 0.52      ,  0.46428571,  0.25      ,  0.375     ,  0.36764706,\n",
              "         1.        ],\n",
              "       [ 0.2       ,  0.42857143,  0.5       ,  0.625     ,  0.35294118,\n",
              "         0.        ],\n",
              "       [ 0.38      ,  0.46428571,  1.        ,  0.625     ,  0.5       ,\n",
              "         0.        ],\n",
              "       [ 0.3       ,  0.46428571,  0.25      ,  0.5       ,  0.37867647,\n",
              "         0.        ]])"
            ]
          },
          "metadata": {},
          "execution_count": 48
        }
      ]
    },
    {
      "cell_type": "code",
      "source": [
        "import tensorflow\n",
        "from tensorflow import keras\n",
        "from tensorflow.keras import Sequential\n",
        "from tensorflow.keras.layers import Dense"
      ],
      "metadata": {
        "id": "lWMKg3dYeZa-"
      },
      "execution_count": 49,
      "outputs": []
    },
    {
      "cell_type": "code",
      "source": [
        "model=Sequential()\n",
        "model.add(Dense(7,activation=\"relu\",input_dim=6))\n",
        "model.add(Dense(7,activation=\"relu\"))\n",
        "model.add(Dense(1,activation=\"linear\"))"
      ],
      "metadata": {
        "id": "kD8Zm8qLe4wh"
      },
      "execution_count": 89,
      "outputs": []
    },
    {
      "cell_type": "code",
      "source": [
        "model.summary()"
      ],
      "metadata": {
        "colab": {
          "base_uri": "https://localhost:8080/"
        },
        "id": "OsxErjxIfSz9",
        "outputId": "3dc076fd-8eab-4b70-c167-548676e64501"
      },
      "execution_count": 90,
      "outputs": [
        {
          "output_type": "stream",
          "name": "stdout",
          "text": [
            "Model: \"sequential_6\"\n",
            "_________________________________________________________________\n",
            " Layer (type)                Output Shape              Param #   \n",
            "=================================================================\n",
            " dense_16 (Dense)            (None, 7)                 49        \n",
            "                                                                 \n",
            " dense_17 (Dense)            (None, 7)                 56        \n",
            "                                                                 \n",
            " dense_18 (Dense)            (None, 1)                 8         \n",
            "                                                                 \n",
            "=================================================================\n",
            "Total params: 113\n",
            "Trainable params: 113\n",
            "Non-trainable params: 0\n",
            "_________________________________________________________________\n"
          ]
        }
      ]
    },
    {
      "cell_type": "code",
      "source": [
        "model.compile(loss='mean_squared_error',optimizer=\"Adam\")"
      ],
      "metadata": {
        "id": "6IRSbqRlfWCT"
      },
      "execution_count": 91,
      "outputs": []
    },
    {
      "cell_type": "code",
      "source": [
        "model.fit(x_train_sc,y_train,epochs=100,validation_split=0.2)"
      ],
      "metadata": {
        "colab": {
          "base_uri": "https://localhost:8080/"
        },
        "id": "yA7fjC3ffj9c",
        "outputId": "8fc1bdb9-30ed-45e6-fd48-6655c7062d15"
      },
      "execution_count": 92,
      "outputs": [
        {
          "output_type": "stream",
          "name": "stdout",
          "text": [
            "Epoch 1/100\n",
            "8/8 [==============================] - 1s 18ms/step - loss: 0.0766 - val_loss: 0.0572\n",
            "Epoch 2/100\n",
            "8/8 [==============================] - 0s 8ms/step - loss: 0.0444 - val_loss: 0.0352\n",
            "Epoch 3/100\n",
            "8/8 [==============================] - 0s 5ms/step - loss: 0.0276 - val_loss: 0.0279\n",
            "Epoch 4/100\n",
            "8/8 [==============================] - 0s 5ms/step - loss: 0.0221 - val_loss: 0.0281\n",
            "Epoch 5/100\n",
            "8/8 [==============================] - 0s 4ms/step - loss: 0.0217 - val_loss: 0.0280\n",
            "Epoch 6/100\n",
            "8/8 [==============================] - 0s 4ms/step - loss: 0.0208 - val_loss: 0.0263\n",
            "Epoch 7/100\n",
            "8/8 [==============================] - 0s 4ms/step - loss: 0.0196 - val_loss: 0.0241\n",
            "Epoch 8/100\n",
            "8/8 [==============================] - 0s 4ms/step - loss: 0.0185 - val_loss: 0.0224\n",
            "Epoch 9/100\n",
            "8/8 [==============================] - 0s 4ms/step - loss: 0.0174 - val_loss: 0.0211\n",
            "Epoch 10/100\n",
            "8/8 [==============================] - 0s 4ms/step - loss: 0.0165 - val_loss: 0.0198\n",
            "Epoch 11/100\n",
            "8/8 [==============================] - 0s 4ms/step - loss: 0.0156 - val_loss: 0.0187\n",
            "Epoch 12/100\n",
            "8/8 [==============================] - 0s 5ms/step - loss: 0.0148 - val_loss: 0.0177\n",
            "Epoch 13/100\n",
            "8/8 [==============================] - 0s 5ms/step - loss: 0.0140 - val_loss: 0.0166\n",
            "Epoch 14/100\n",
            "8/8 [==============================] - 0s 6ms/step - loss: 0.0132 - val_loss: 0.0156\n",
            "Epoch 15/100\n",
            "8/8 [==============================] - 0s 6ms/step - loss: 0.0125 - val_loss: 0.0147\n",
            "Epoch 16/100\n",
            "8/8 [==============================] - 0s 4ms/step - loss: 0.0118 - val_loss: 0.0139\n",
            "Epoch 17/100\n",
            "8/8 [==============================] - 0s 5ms/step - loss: 0.0112 - val_loss: 0.0132\n",
            "Epoch 18/100\n",
            "8/8 [==============================] - 0s 5ms/step - loss: 0.0106 - val_loss: 0.0124\n",
            "Epoch 19/100\n",
            "8/8 [==============================] - 0s 4ms/step - loss: 0.0100 - val_loss: 0.0117\n",
            "Epoch 20/100\n",
            "8/8 [==============================] - 0s 4ms/step - loss: 0.0095 - val_loss: 0.0111\n",
            "Epoch 21/100\n",
            "8/8 [==============================] - 0s 6ms/step - loss: 0.0090 - val_loss: 0.0104\n",
            "Epoch 22/100\n",
            "8/8 [==============================] - 0s 5ms/step - loss: 0.0085 - val_loss: 0.0098\n",
            "Epoch 23/100\n",
            "8/8 [==============================] - 0s 5ms/step - loss: 0.0081 - val_loss: 0.0093\n",
            "Epoch 24/100\n",
            "8/8 [==============================] - 0s 4ms/step - loss: 0.0078 - val_loss: 0.0089\n",
            "Epoch 25/100\n",
            "8/8 [==============================] - 0s 4ms/step - loss: 0.0074 - val_loss: 0.0084\n",
            "Epoch 26/100\n",
            "8/8 [==============================] - 0s 5ms/step - loss: 0.0071 - val_loss: 0.0080\n",
            "Epoch 27/100\n",
            "8/8 [==============================] - 0s 5ms/step - loss: 0.0068 - val_loss: 0.0076\n",
            "Epoch 28/100\n",
            "8/8 [==============================] - 0s 5ms/step - loss: 0.0065 - val_loss: 0.0072\n",
            "Epoch 29/100\n",
            "8/8 [==============================] - 0s 4ms/step - loss: 0.0063 - val_loss: 0.0069\n",
            "Epoch 30/100\n",
            "8/8 [==============================] - 0s 5ms/step - loss: 0.0061 - val_loss: 0.0066\n",
            "Epoch 31/100\n",
            "8/8 [==============================] - 0s 5ms/step - loss: 0.0059 - val_loss: 0.0063\n",
            "Epoch 32/100\n",
            "8/8 [==============================] - 0s 4ms/step - loss: 0.0057 - val_loss: 0.0060\n",
            "Epoch 33/100\n",
            "8/8 [==============================] - 0s 5ms/step - loss: 0.0056 - val_loss: 0.0058\n",
            "Epoch 34/100\n",
            "8/8 [==============================] - 0s 4ms/step - loss: 0.0054 - val_loss: 0.0055\n",
            "Epoch 35/100\n",
            "8/8 [==============================] - 0s 4ms/step - loss: 0.0053 - val_loss: 0.0053\n",
            "Epoch 36/100\n",
            "8/8 [==============================] - 0s 4ms/step - loss: 0.0052 - val_loss: 0.0051\n",
            "Epoch 37/100\n",
            "8/8 [==============================] - 0s 5ms/step - loss: 0.0050 - val_loss: 0.0050\n",
            "Epoch 38/100\n",
            "8/8 [==============================] - 0s 5ms/step - loss: 0.0050 - val_loss: 0.0048\n",
            "Epoch 39/100\n",
            "8/8 [==============================] - 0s 4ms/step - loss: 0.0048 - val_loss: 0.0047\n",
            "Epoch 40/100\n",
            "8/8 [==============================] - 0s 5ms/step - loss: 0.0048 - val_loss: 0.0046\n",
            "Epoch 41/100\n",
            "8/8 [==============================] - 0s 5ms/step - loss: 0.0047 - val_loss: 0.0045\n",
            "Epoch 42/100\n",
            "8/8 [==============================] - 0s 5ms/step - loss: 0.0047 - val_loss: 0.0044\n",
            "Epoch 43/100\n",
            "8/8 [==============================] - 0s 5ms/step - loss: 0.0046 - val_loss: 0.0043\n",
            "Epoch 44/100\n",
            "8/8 [==============================] - 0s 5ms/step - loss: 0.0046 - val_loss: 0.0043\n",
            "Epoch 45/100\n",
            "8/8 [==============================] - 0s 5ms/step - loss: 0.0045 - val_loss: 0.0042\n",
            "Epoch 46/100\n",
            "8/8 [==============================] - 0s 6ms/step - loss: 0.0045 - val_loss: 0.0042\n",
            "Epoch 47/100\n",
            "8/8 [==============================] - 0s 5ms/step - loss: 0.0045 - val_loss: 0.0042\n",
            "Epoch 48/100\n",
            "8/8 [==============================] - 0s 4ms/step - loss: 0.0044 - val_loss: 0.0041\n",
            "Epoch 49/100\n",
            "8/8 [==============================] - 0s 5ms/step - loss: 0.0044 - val_loss: 0.0041\n",
            "Epoch 50/100\n",
            "8/8 [==============================] - 0s 5ms/step - loss: 0.0045 - val_loss: 0.0042\n",
            "Epoch 51/100\n",
            "8/8 [==============================] - 0s 5ms/step - loss: 0.0044 - val_loss: 0.0041\n",
            "Epoch 52/100\n",
            "8/8 [==============================] - 0s 4ms/step - loss: 0.0044 - val_loss: 0.0040\n",
            "Epoch 53/100\n",
            "8/8 [==============================] - 0s 4ms/step - loss: 0.0044 - val_loss: 0.0041\n",
            "Epoch 54/100\n",
            "8/8 [==============================] - 0s 5ms/step - loss: 0.0044 - val_loss: 0.0041\n",
            "Epoch 55/100\n",
            "8/8 [==============================] - 0s 4ms/step - loss: 0.0044 - val_loss: 0.0040\n",
            "Epoch 56/100\n",
            "8/8 [==============================] - 0s 4ms/step - loss: 0.0044 - val_loss: 0.0039\n",
            "Epoch 57/100\n",
            "8/8 [==============================] - 0s 5ms/step - loss: 0.0044 - val_loss: 0.0040\n",
            "Epoch 58/100\n",
            "8/8 [==============================] - 0s 5ms/step - loss: 0.0044 - val_loss: 0.0040\n",
            "Epoch 59/100\n",
            "8/8 [==============================] - 0s 4ms/step - loss: 0.0044 - val_loss: 0.0039\n",
            "Epoch 60/100\n",
            "8/8 [==============================] - 0s 5ms/step - loss: 0.0043 - val_loss: 0.0040\n",
            "Epoch 61/100\n",
            "8/8 [==============================] - 0s 5ms/step - loss: 0.0043 - val_loss: 0.0040\n",
            "Epoch 62/100\n",
            "8/8 [==============================] - 0s 6ms/step - loss: 0.0043 - val_loss: 0.0039\n",
            "Epoch 63/100\n",
            "8/8 [==============================] - 0s 5ms/step - loss: 0.0043 - val_loss: 0.0039\n",
            "Epoch 64/100\n",
            "8/8 [==============================] - 0s 5ms/step - loss: 0.0043 - val_loss: 0.0039\n",
            "Epoch 65/100\n",
            "8/8 [==============================] - 0s 4ms/step - loss: 0.0043 - val_loss: 0.0040\n",
            "Epoch 66/100\n",
            "8/8 [==============================] - 0s 5ms/step - loss: 0.0043 - val_loss: 0.0039\n",
            "Epoch 67/100\n",
            "8/8 [==============================] - 0s 4ms/step - loss: 0.0043 - val_loss: 0.0039\n",
            "Epoch 68/100\n",
            "8/8 [==============================] - 0s 5ms/step - loss: 0.0043 - val_loss: 0.0039\n",
            "Epoch 69/100\n",
            "8/8 [==============================] - 0s 5ms/step - loss: 0.0043 - val_loss: 0.0039\n",
            "Epoch 70/100\n",
            "8/8 [==============================] - 0s 5ms/step - loss: 0.0043 - val_loss: 0.0040\n",
            "Epoch 71/100\n",
            "8/8 [==============================] - 0s 5ms/step - loss: 0.0043 - val_loss: 0.0039\n",
            "Epoch 72/100\n",
            "8/8 [==============================] - 0s 4ms/step - loss: 0.0043 - val_loss: 0.0038\n",
            "Epoch 73/100\n",
            "8/8 [==============================] - 0s 4ms/step - loss: 0.0043 - val_loss: 0.0038\n",
            "Epoch 74/100\n",
            "8/8 [==============================] - 0s 5ms/step - loss: 0.0043 - val_loss: 0.0039\n",
            "Epoch 75/100\n",
            "8/8 [==============================] - 0s 5ms/step - loss: 0.0043 - val_loss: 0.0038\n",
            "Epoch 76/100\n",
            "8/8 [==============================] - 0s 5ms/step - loss: 0.0043 - val_loss: 0.0039\n",
            "Epoch 77/100\n",
            "8/8 [==============================] - 0s 5ms/step - loss: 0.0043 - val_loss: 0.0038\n",
            "Epoch 78/100\n",
            "8/8 [==============================] - 0s 4ms/step - loss: 0.0043 - val_loss: 0.0038\n",
            "Epoch 79/100\n",
            "8/8 [==============================] - 0s 5ms/step - loss: 0.0043 - val_loss: 0.0039\n",
            "Epoch 80/100\n",
            "8/8 [==============================] - 0s 4ms/step - loss: 0.0043 - val_loss: 0.0038\n",
            "Epoch 81/100\n",
            "8/8 [==============================] - 0s 5ms/step - loss: 0.0043 - val_loss: 0.0038\n",
            "Epoch 82/100\n",
            "8/8 [==============================] - 0s 5ms/step - loss: 0.0043 - val_loss: 0.0039\n",
            "Epoch 83/100\n",
            "8/8 [==============================] - 0s 5ms/step - loss: 0.0043 - val_loss: 0.0038\n",
            "Epoch 84/100\n",
            "8/8 [==============================] - 0s 4ms/step - loss: 0.0043 - val_loss: 0.0039\n",
            "Epoch 85/100\n",
            "8/8 [==============================] - 0s 4ms/step - loss: 0.0043 - val_loss: 0.0038\n",
            "Epoch 86/100\n",
            "8/8 [==============================] - 0s 5ms/step - loss: 0.0043 - val_loss: 0.0038\n",
            "Epoch 87/100\n",
            "8/8 [==============================] - 0s 5ms/step - loss: 0.0043 - val_loss: 0.0038\n",
            "Epoch 88/100\n",
            "8/8 [==============================] - 0s 5ms/step - loss: 0.0043 - val_loss: 0.0038\n",
            "Epoch 89/100\n",
            "8/8 [==============================] - 0s 6ms/step - loss: 0.0043 - val_loss: 0.0039\n",
            "Epoch 90/100\n",
            "8/8 [==============================] - 0s 5ms/step - loss: 0.0043 - val_loss: 0.0038\n",
            "Epoch 91/100\n",
            "8/8 [==============================] - 0s 5ms/step - loss: 0.0043 - val_loss: 0.0038\n",
            "Epoch 92/100\n",
            "8/8 [==============================] - 0s 5ms/step - loss: 0.0042 - val_loss: 0.0038\n",
            "Epoch 93/100\n",
            "8/8 [==============================] - 0s 6ms/step - loss: 0.0044 - val_loss: 0.0039\n",
            "Epoch 94/100\n",
            "8/8 [==============================] - 0s 5ms/step - loss: 0.0043 - val_loss: 0.0037\n",
            "Epoch 95/100\n",
            "8/8 [==============================] - 0s 4ms/step - loss: 0.0042 - val_loss: 0.0038\n",
            "Epoch 96/100\n",
            "8/8 [==============================] - 0s 4ms/step - loss: 0.0043 - val_loss: 0.0040\n",
            "Epoch 97/100\n",
            "8/8 [==============================] - 0s 5ms/step - loss: 0.0043 - val_loss: 0.0037\n",
            "Epoch 98/100\n",
            "8/8 [==============================] - 0s 5ms/step - loss: 0.0043 - val_loss: 0.0038\n",
            "Epoch 99/100\n",
            "8/8 [==============================] - 0s 5ms/step - loss: 0.0042 - val_loss: 0.0039\n",
            "Epoch 100/100\n",
            "8/8 [==============================] - 0s 5ms/step - loss: 0.0043 - val_loss: 0.0038\n"
          ]
        },
        {
          "output_type": "execute_result",
          "data": {
            "text/plain": [
              "<keras.callbacks.History at 0x7f811e746e10>"
            ]
          },
          "metadata": {},
          "execution_count": 92
        }
      ]
    },
    {
      "cell_type": "code",
      "source": [
        "y_pred=model.predict(x_test_sc)"
      ],
      "metadata": {
        "id": "vH0LAhuufuh9"
      },
      "execution_count": 93,
      "outputs": []
    },
    {
      "cell_type": "code",
      "source": [
        "from sklearn.metrics import r2_score\n",
        "r2_score(y_test,y_pred)"
      ],
      "metadata": {
        "colab": {
          "base_uri": "https://localhost:8080/"
        },
        "id": "_EexeYQ2qtj9",
        "outputId": "ec373a71-133e-4798-be78-0b8c7e573d8c"
      },
      "execution_count": 94,
      "outputs": [
        {
          "output_type": "execute_result",
          "data": {
            "text/plain": [
              "0.7944177280632334"
            ]
          },
          "metadata": {},
          "execution_count": 94
        }
      ]
    },
    {
      "cell_type": "code",
      "source": [
        "GRE_SCORE=int(input(\"Enter Your GRE Score: \"))\n",
        "TOFEL_SCORE=int(input(\"Enter Your TOFEL Score: \"))\n",
        "UNIVERSITY_RATING=int(input(\"Enter Your University Rating: \"))\n",
        "SOP=float(input(\"Enter Statement of Purpose Rating(SOP): \"))\n",
        "CGPA=float(input(\"Enter Your CGPA: \"))\n",
        "RESEARCH=int(input(\"Have you did any research ? Please ansewer(YES:1/NO:0)\"))"
      ],
      "metadata": {
        "colab": {
          "base_uri": "https://localhost:8080/"
        },
        "id": "qikDQqN0rjQm",
        "outputId": "6498696e-cdc2-409e-ea34-e7b296fb73fb"
      },
      "execution_count": 69,
      "outputs": [
        {
          "name": "stdout",
          "output_type": "stream",
          "text": [
            "Enter Your GRE Score: 324\n",
            "Enter Your TOFEL Score: 107\n",
            "Enter Your University Rating: 4\n",
            "Enter Statement of Purpose Rating(SOP): 4.0\n",
            "Enter Your CGPA: 8.87\n",
            "Have you did any research ? Please ansewer(YES:1/NO:0)1\n"
          ]
        }
      ]
    },
    {
      "cell_type": "code",
      "source": [
        "y_pred=model.predict([[GRE_SCORE,TOFEL_SCORE,UNIVERSITY_RATING,SOP,CGPA,RESEARCH]])\n",
        "y_pred1=np.where(y_pred>0.5,1,0)\n",
        "print(y_pred1)"
      ],
      "metadata": {
        "colab": {
          "base_uri": "https://localhost:8080/"
        },
        "id": "oRef5xYHq4Ny",
        "outputId": "11bb1c23-75a8-4fc1-f8c9-f6c0403dbc9d"
      },
      "execution_count": 75,
      "outputs": [
        {
          "output_type": "stream",
          "name": "stdout",
          "text": [
            "[[1]]\n"
          ]
        }
      ]
    },
    {
      "cell_type": "code",
      "source": [
        "if y_pred1==1:\n",
        "  print(\"Granted for GRE Addmission..\")\n",
        "if y_pred1==0:\n",
        "  print(\"Not Granted for GRE Addmission..\")"
      ],
      "metadata": {
        "colab": {
          "base_uri": "https://localhost:8080/"
        },
        "id": "NZAHlCObtFV2",
        "outputId": "7d81ad46-f9c1-4181-b0b6-e7df2ce7b011"
      },
      "execution_count": 76,
      "outputs": [
        {
          "output_type": "stream",
          "name": "stdout",
          "text": [
            "Granted for GRE Addmission..\n"
          ]
        }
      ]
    }
  ]
}